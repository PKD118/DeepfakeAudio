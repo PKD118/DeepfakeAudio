{
 "cells": [
  {
   "cell_type": "markdown",
   "id": "97de61b3",
   "metadata": {},
   "source": [
    "# Emotion Detection using `superb/hubert-large-superb-er`"
   ]
  },
  {
   "cell_type": "code",
   "execution_count": null,
   "id": "2dac913b",
   "metadata": {},
   "outputs": [],
   "source": [
    "!pip install transformers torchaudio librosa soundfile -q"
   ]
  },
  {
   "cell_type": "code",
   "execution_count": null,
   "id": "28231f36",
   "metadata": {},
   "outputs": [],
   "source": [
    "from google.colab import files\n",
    "uploaded = files.upload()\n",
    "audio_file = next(iter(uploaded))"
   ]
  },
  {
   "cell_type": "code",
   "execution_count": null,
   "id": "1ac198f2",
   "metadata": {},
   "outputs": [],
   "source": [
    "from transformers import pipeline\n",
    "\n",
    "emotion_pipeline = pipeline(\"audio-classification\", model=\"superb/hubert-large-superb-er\")\n",
    "results = emotion_pipeline(audio_file)\n",
    "\n",
    "for r in results:\n",
    "    print(f\"{r['label']}: {r['score']:.3f}\")"
   ]
  }
 ],
 "metadata": {},
 "nbformat": 4,
 "nbformat_minor": 5
}
