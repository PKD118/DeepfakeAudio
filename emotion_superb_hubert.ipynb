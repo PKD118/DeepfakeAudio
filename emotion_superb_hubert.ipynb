{
  "cells": [
    {
      "cell_type": "markdown",
      "metadata": {},
      "source": "# Emotion Detection using `superb/hubert-large-superb-er`"
    },
    {
      "cell_type": "code",
      "execution_count": null,
      "metadata": {},
      "outputs": [],
      "source": [
        "!pip install transformers torchaudio librosa soundfile -q"
      ]
    },
    {
      "cell_type": "code",
      "execution_count": null,
      "metadata": {},
      "outputs": [],
      "source": [
        "from google.colab import files
",
        "uploaded = files.upload()
",
        "
",
        "audio_file = next(iter(uploaded))"
      ]
    },
    {
      "cell_type": "code",
      "execution_count": null,
      "metadata": {},
      "outputs": [],
      "source": [
        "from transformers import pipeline
",
        "
",
        "emotion_pipeline = pipeline("audio-classification", model="superb/hubert-large-superb-er")
",
        "results = emotion_pipeline(audio_file)
",
        "
",
        "for r in results:
",
        "    print(f"{r['label']}: {r['score']:.3f}")"
      ]
    }
  ],
  "metadata": {
    "colab": {},
    "kernelspec": {
      "display_name": "Python 3",
      "language": "python",
      "name": "python3"
    },
    "language_info": {
      "name": "python",
      "version": ""
    }
  },
  "nbformat": 4,
  "nbformat_minor": 0
}