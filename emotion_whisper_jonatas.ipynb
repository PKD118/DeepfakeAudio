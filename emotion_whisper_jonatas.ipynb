{
 "cells": [
  {
   "cell_type": "markdown",
   "id": "21140ceb",
   "metadata": {},
   "source": [
    "# Emotion Detection using `jonatasgrosman/whisper-emo`"
   ]
  },
  {
   "cell_type": "code",
   "execution_count": null,
   "id": "bb7b3e26",
   "metadata": {},
   "outputs": [],
   "source": [
    "!pip install transformers librosa soundfile torchaudio numpy -q"
   ]
  },
  {
   "cell_type": "code",
   "execution_count": null,
   "id": "c30776a1",
   "metadata": {},
   "outputs": [],
   "source": [
    "from google.colab import files\n",
    "uploaded = files.upload()\n",
    "audio_file = next(iter(uploaded))"
   ]
  },
  {
   "cell_type": "code",
   "execution_count": null,
   "id": "97050cbc",
   "metadata": {},
   "outputs": [],
   "source": [
    "import librosa\n",
    "import soundfile as sf\n",
    "\n",
    "def preprocess_audio(input_path, output_path=\"whisper_prepped.wav\", target_sr=16000):\n",
    "    y, sr = librosa.load(input_path, sr=None, mono=True)\n",
    "    y = librosa.util.normalize(y)\n",
    "    y_resampled = librosa.resample(y, orig_sr=sr, target_sr=target_sr)\n",
    "    sf.write(output_path, y_resampled, target_sr)\n",
    "    return output_path\n",
    "\n",
    "prepped_audio = preprocess_audio(audio_file)"
   ]
  },
  {
   "cell_type": "code",
   "execution_count": null,
   "id": "fee560ce",
   "metadata": {},
   "outputs": [],
   "source": [
    "from transformers import pipeline\n",
    "\n",
    "pipe = pipeline(\"audio-classification\", model=\"jonatasgrosman/whisper-emo\")\n",
    "results = pipe(prepped_audio)\n",
    "\n",
    "for r in results:\n",
    "    print(f\"{r['label']}: {r['score']:.3f}\")"
   ]
  }
 ],
 "metadata": {},
 "nbformat": 4,
 "nbformat_minor": 5
}
