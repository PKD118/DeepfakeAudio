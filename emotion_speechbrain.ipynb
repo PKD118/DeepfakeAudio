{
  "cells": [
    {
      "cell_type": "markdown",
      "metadata": {},
      "source": "# Emotion Detection using `speechbrain/emotion-recognition-wav2vec2-IEMOCAP`"
    },
    {
      "cell_type": "code",
      "execution_count": null,
      "metadata": {},
      "outputs": [],
      "source": [
        "!pip install speechbrain torchaudio librosa soundfile numpy noisereduce -q"
      ]
    },
    {
      "cell_type": "code",
      "execution_count": null,
      "metadata": {},
      "outputs": [],
      "source": [
        "from google.colab import files
",
        "uploaded = files.upload()
",
        "
",
        "audio_file = next(iter(uploaded))"
      ]
    },
    {
      "cell_type": "code",
      "execution_count": null,
      "metadata": {},
      "outputs": [],
      "source": [
        "import librosa
",
        "import soundfile as sf
",
        "import noisereduce as nr
",
        "
",
        "def preprocess_sb(input_path, output_path="sb_cleaned.wav", target_sr=16000):
",
        "    y, sr = librosa.load(input_path, sr=None, mono=True)
",
        "    y_denoised = nr.reduce_noise(y=y, sr=sr)
",
        "    y_denoised = librosa.util.normalize(y_denoised)
",
        "    y_resampled = librosa.resample(y_denoised, orig_sr=sr, target_sr=target_sr)
",
        "    sf.write(output_path, y_resampled, target_sr)
",
        "    return output_path
",
        "
",
        "cleaned_audio = preprocess_sb(audio_file)"
      ]
    },
    {
      "cell_type": "code",
      "execution_count": null,
      "metadata": {},
      "outputs": [],
      "source": [
        "from speechbrain.pretrained import EmotionRecognition
",
        "
",
        "model = EmotionRecognition.from_hparams(source="speechbrain/emotion-recognition-wav2vec2-IEMOCAP")
",
        "output = model.classify_file(cleaned_audio)
",
        "
",
        "print("Predicted Emotion:", output['emotion'])
",
        "print("Scores by class:")
",
        "for emotion, score in output['scores'].items():
",
        "    print(f"  {emotion}: {score:.3f}")"
      ]
    }
  ],
  "metadata": {
    "colab": {},
    "kernelspec": {
      "display_name": "Python 3",
      "language": "python",
      "name": "python3"
    },
    "language_info": {
      "name": "python",
      "version": ""
    }
  },
  "nbformat": 4,
  "nbformat_minor": 0
}