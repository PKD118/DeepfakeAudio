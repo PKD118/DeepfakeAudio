# --- Required Packages ---
# pip install speechbrain torchaudio librosa soundfile numpy noisereduce

from speechbrain.pretrained import EmotionRecognition
import librosa
import soundfile as sf
import noisereduce as nr

# Step 1: Load + Denoise + Normalize + Resample
def preprocess_denoise_audio(input_path, output_path="denoised_sb.wav", target_sr=16000):
    y, sr = librosa.load(input_path, sr=None, mono=True)
    
    # Noise reduction
    y_denoised = nr.reduce_noise(y=y, sr=sr)
    
    # Normalize
    y_denoised = librosa.util.normalize(y_denoised)
    
    # Resample to 16kHz
    y_resampled = librosa.resample(y_denoised, orig_sr=sr, target_sr=target_sr)
    
    # Save preprocessed audio
    sf.write(output_path, y_resampled, target_sr)
    return output_path

# Step 2: Preprocess your noisy audio
cleaned_audio = preprocess_denoise_audio("your_noisy_audio.wav")

# Step 3: Load the model and classify
model = EmotionRecognition.from_hparams(
    source="speechbrain/emotion-recognition-wav2vec2-IEMOCAP"
)
output = model.classify_file(cleaned_audio)

# Step 4: Show results
print(output)
